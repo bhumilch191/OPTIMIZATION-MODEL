{
  "nbformat": 4,
  "nbformat_minor": 0,
  "metadata": {
    "colab": {
      "provenance": [],
      "authorship_tag": "ABX9TyO2kCGC3w1SZwu1eavYVPRk",
      "include_colab_link": true
    },
    "kernelspec": {
      "name": "python3",
      "display_name": "Python 3"
    },
    "language_info": {
      "name": "python"
    }
  },
  "cells": [
    {
      "cell_type": "markdown",
      "metadata": {
        "id": "view-in-github",
        "colab_type": "text"
      },
      "source": [
        "<a href=\"https://colab.research.google.com/github/bhumilch191/OPTIMIZATION-MODEL/blob/main/OPTIMIZATION_MODEL.ipynb\" target=\"_parent\"><img src=\"https://colab.research.google.com/assets/colab-badge.svg\" alt=\"Open In Colab\"/></a>"
      ]
    },
    {
      "cell_type": "markdown",
      "source": [
        "   A person monthly income is 15000 rupees/ month. his expense includes home rent, homemade food or ordered food and fuel. he wants saves money for unreal situations. he goes to developer and asks how to reduce my expense so that I save money. He said my monthly money spends like this, home rent(fixed) = 6000/- per month, either homemade food=3000/- per month or ordered food 7500/- per month, fuel(varies) =1500/- per month.\n"
      ],
      "metadata": {
        "id": "3T5TfFfqAPco"
      }
    },
    {
      "cell_type": "markdown",
      "source": [
        "### Objective: Minimize total expense"
      ],
      "metadata": {
        "id": "AuzOyGkoAPSA"
      }
    },
    {
      "cell_type": "code",
      "execution_count": 2,
      "metadata": {
        "colab": {
          "base_uri": "https://localhost:8080/"
        },
        "id": "c-ZHHDTk1o4v",
        "outputId": "858a71f0-2c49-4cf2-d88e-e557f066f2d7"
      },
      "outputs": [
        {
          "output_type": "stream",
          "name": "stdout",
          "text": [
            "Collecting pulp\n",
            "  Downloading pulp-3.2.2-py3-none-any.whl.metadata (6.9 kB)\n",
            "Downloading pulp-3.2.2-py3-none-any.whl (16.4 MB)\n",
            "\u001b[2K   \u001b[90m━━━━━━━━━━━━━━━━━━━━━━━━━━━━━━━━━━━━━━━━\u001b[0m \u001b[32m16.4/16.4 MB\u001b[0m \u001b[31m93.4 MB/s\u001b[0m eta \u001b[36m0:00:00\u001b[0m\n",
            "\u001b[?25hInstalling collected packages: pulp\n",
            "Successfully installed pulp-3.2.2\n"
          ]
        }
      ],
      "source": [
        "!pip install pulp"
      ]
    },
    {
      "cell_type": "code",
      "source": [
        "import pulp"
      ],
      "metadata": {
        "id": "g1BE3Kif1v7A"
      },
      "execution_count": 3,
      "outputs": []
    },
    {
      "cell_type": "code",
      "source": [
        "# define problem\n",
        "model = pulp.LpProblem(\"maximize_savings\", pulp.LpMaximize)"
      ],
      "metadata": {
        "id": "WFDmRTWV2LwC"
      },
      "execution_count": 7,
      "outputs": []
    },
    {
      "cell_type": "code",
      "source": [
        "# Variables\n",
        "h_days = pulp.LpVariable(\"homemade_food\", lowBound=0,upBound=30, cat=\"Integer\")\n",
        "o_days = pulp.LpVariable(\"ordered_food\", lowBound=2, upBound=30, cat=\"Integer\")\n",
        "travel_cost = pulp.LpVariable(\"travele_cost_per_day\", lowBound=40, upBound=50, cat=\"Integer\")\n",
        "\n",
        "# Costs\n",
        "cost_per_day_A = 100 # one member cost per day\n",
        "cost_per_day_B = 250 # one member cost per day\n",
        "travele_day = 30\n",
        "home_rent = 6000 # Home rent per month\n",
        "salary = 15000 # salary per month\n",
        "\n",
        "# define constraints\n",
        "model += h_days + o_days == 30, \"total_days\"\n",
        "food_member = 2\n",
        "vehicle = 1\n",
        "\n",
        "food_cost = cost_per_day_A * h_days + cost_per_day_B * o_days\n",
        "total_travel_cost = travele_day * travel_cost\n",
        "total_cost = food_cost * food_member + total_travel_cost * vehicle + home_rent\n",
        "\n",
        "# objective: maximize savings\n",
        "model += salary - total_cost, \"maximize_savings\"\n",
        "\n",
        "model.solve()\n",
        "\n",
        "print(f\"status: {pulp.LpStatus[model.status]}\")\n",
        "print(f\"Homemade food days: {h_days.varValue}\")\n",
        "print(f\"Ordered food days: {o_days.varValue}\")\n",
        "print(f\"Travel cost per day: {t.varValue}\")\n",
        "print(f\"Total food cost: {pulp.value(food_cost)}\")\n",
        "print(f\"Total travel cost: {pulp.value(travel_cost)}\")\n",
        "print(f\"Total cost: {pulp.value(total_cost)}\")\n",
        "print(f\"Total savings: {pulp.value(model.objective)}\")"
      ],
      "metadata": {
        "id": "rVjRUIOC3L5H",
        "colab": {
          "base_uri": "https://localhost:8080/"
        },
        "outputId": "c93083f6-acb4-4ea9-f3a8-a458e42dbad0"
      },
      "execution_count": 8,
      "outputs": [
        {
          "output_type": "stream",
          "name": "stdout",
          "text": [
            "status: Optimal\n",
            "Homemade food days: 28.0\n",
            "Ordered food days: 2.0\n",
            "Travel cost per day: 40.0\n",
            "Total food cost: 3300.0\n",
            "Total travel cost: 1200.0\n",
            "Total cost: 13800.0\n",
            "Total savings: 1200.0\n"
          ]
        }
      ]
    },
    {
      "cell_type": "markdown",
      "source": [
        "  Insights: <br>\n",
        "  The model suggests the number of days are 28 for homemade food to meet saving goals. And ordered food 2 days/month.\n",
        "  Savings are maximized by reducing cost on food while maintaining basic lifestyle.<br>\n",
        "  And also person spends money on travel 1200 per month."
      ],
      "metadata": {
        "id": "DlTjqwEYBJwX"
      }
    },
    {
      "cell_type": "code",
      "source": [],
      "metadata": {
        "id": "FkTu1H4ABjbj"
      },
      "execution_count": null,
      "outputs": []
    }
  ]
}